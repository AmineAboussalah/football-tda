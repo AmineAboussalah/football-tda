{
 "cells": [
  {
   "cell_type": "markdown",
   "metadata": {},
   "source": [
    "# The shape of football games"
   ]
  },
  {
   "cell_type": "markdown",
   "metadata": {},
   "source": [
    "## The dataset"
   ]
  },
  {
   "cell_type": "markdown",
   "metadata": {},
   "source": [
    "The original data can be found [here](https://www.kaggle.com/hugomathien/soccer). It contains briefly:"
   ]
  },
  {
   "cell_type": "markdown",
   "metadata": {},
   "source": [
    "## Tables"
   ]
  },
  {
   "cell_type": "markdown",
   "metadata": {},
   "source": [
    "* Team: it contains three id keys to relate to other tables, and the long and short name of the team.\n",
    "* Team Attributes: historical players attributes updates for each team (not used in our model).\n",
    "* Player: general player information like `name`, `birthday`, `weight` and `height`.\n",
    "* Player_Attributes: historical players attributes updates. This table is linked to the `Player` table by `player_fifa_api_id`\n",
    "* Match: it is the most important table, where each row describes a match using `date`, `season`, `league`, the id of the two participant teams, the id of the starting 22 players and their position in the field. \n",
    "* League and Country: it contains the name of the league and its home country."
   ]
  },
  {
   "cell_type": "markdown",
   "metadata": {},
   "source": [
    "<img src=\"FootballTDA.png\"> "
   ]
  },
  {
   "cell_type": "code",
   "execution_count": null,
   "metadata": {},
   "outputs": [],
   "source": [
    "%load_ext autoreload\n",
    "%autoreload 2"
   ]
  },
  {
   "cell_type": "code",
   "execution_count": null,
   "metadata": {},
   "outputs": [],
   "source": [
    "from database import Database \n",
    "from cross_validation import extract_features_for_prediction\n",
    "import pandas as pd\n",
    "import numpy as np\n",
    "from numpy import random\n",
    "import soccer_basics \n",
    "from random import expovariate, gauss\n",
    "from sklearn.ensemble import RandomForestClassifier\n",
    "from utils import read_pickle\n",
    "from notebook_functions import *"
   ]
  },
  {
   "cell_type": "markdown",
   "metadata": {},
   "source": [
    "## Load the tables"
   ]
  },
  {
   "cell_type": "markdown",
   "metadata": {},
   "source": [
    "The class `database` is set to manage the tables in order to modify the teams.  "
   ]
  },
  {
   "cell_type": "code",
   "execution_count": null,
   "metadata": {},
   "outputs": [],
   "source": [
    "database = Database()"
   ]
  },
  {
   "cell_type": "markdown",
   "metadata": {},
   "source": [
    "## Modify teams"
   ]
  },
  {
   "cell_type": "markdown",
   "metadata": {},
   "source": [
    "The method `hire_player` is used to move your favorite player to a selected team to simulate how the championship would go. You just need to select the team where you want put the player and then select the player to be replaced. The list of teams is sorted by the total of points that each team has totaled during the championship. Players are sorted by the number of appearances they had that year. \n",
    "Let's see how things would have gone.\n",
    "\n",
    "**Note**: the higher the number of appearances of the player to be replaced, the greater the impact of the hired player!"
   ]
  },
  {
   "cell_type": "code",
   "execution_count": null,
   "metadata": {
    "scrolled": true
   },
   "outputs": [],
   "source": [
    "new_player_df = database.hire_player()"
   ]
  },
  {
   "cell_type": "code",
   "execution_count": null,
   "metadata": {
    "scrolled": false
   },
   "outputs": [],
   "source": [
    "new_player_df.head()"
   ]
  },
  {
   "cell_type": "markdown",
   "metadata": {},
   "source": [
    "Get the team ids, which are going to be used later "
   ]
  },
  {
   "cell_type": "code",
   "execution_count": null,
   "metadata": {},
   "outputs": [],
   "source": [
    "team_ids = get_team_ids(new_player_df)"
   ]
  },
  {
   "cell_type": "markdown",
   "metadata": {},
   "source": [
    "We want to make sure that the columns order is the same as in the training set."
   ]
  },
  {
   "cell_type": "code",
   "execution_count": null,
   "metadata": {},
   "outputs": [],
   "source": [
    "new_players_df_stats = get_useful_cols(new_player_df)"
   ]
  },
  {
   "cell_type": "code",
   "execution_count": null,
   "metadata": {},
   "outputs": [],
   "source": [
    "new_players_df_stats.head()"
   ]
  },
  {
   "cell_type": "markdown",
   "metadata": {},
   "source": [
    "## Feature selection"
   ]
  },
  {
   "cell_type": "markdown",
   "metadata": {},
   "source": [
    "In order to decide which attributes belong to which group, we created a correlation matrix. From this, we saw that there were two big groups, where player attributes were strongly correlated with each other. Therefore, we decided to split the attributes into two groups, one to summarise the attacking characteristics of a player while the other one the defensive ones.\n",
    "Finally, since the goalkeeper has completely different statistics with respect to the other players, we decided to take into account only the overall rating.\n",
    "Below, is possible to see the features used for each player:\n",
    "* **Attack**: \"positioning\", \"crossing\", \"finishing\", \"heading_accuracy\", \"short_passing\", \"reactions\", \"volleys\",                 \"dribbling\", \"curve\", \"free_kick_accuracy\", \"acceleration\", \"sprint_speed\", \"agility\", \"penalties\",                   \"vision\", \"shot_power\", \"long_shots\"\n",
    "* **Defense**: \"interceptions\", \"aggression\", \"marking\", \"standing_tackle\", \"sliding_tackle\", \"long_passing\"\n",
    "* **Goalkeeper**: \"overall_rating\"\n",
    "\n",
    "From this set of features, the next step we did was to, for each non-goalkeeper player, compute the mean of the attack attributes and the defensive ones.\n",
    "\n",
    "Finally, for each team in a given match, we compute the mean and the standard deviation for the attack and the defense from these stats of the team's players, as well as the best attack and best defense. \n"
   ]
  },
  {
   "cell_type": "markdown",
   "metadata": {},
   "source": [
    "In this way a match is described by 14 features (GK overall value, best attack, std attack, mean attack, best defense, std defense, mean defense), that mapped the match in the space, following the characterizes of the two team."
   ]
  },
  {
   "cell_type": "markdown",
   "metadata": {},
   "source": [
    "## Feature extraction"
   ]
  },
  {
   "cell_type": "markdown",
   "metadata": {},
   "source": [
    "The aim of TDA is to catch the structure of the space underlying the data. In our project we assume that the neigborood of a data point hides meaningfull information which are correlated with the outcome of the match. Thus, we explored the data space looking for this kind of correlation."
   ]
  },
  {
   "cell_type": "code",
   "execution_count": null,
   "metadata": {},
   "outputs": [],
   "source": [
    "best_pipeline_params, best_model_feat_params = get_best_params()"
   ]
  },
  {
   "cell_type": "code",
   "execution_count": null,
   "metadata": {},
   "outputs": [],
   "source": [
    "pipeline = get_pipeline(best_pipeline_params)"
   ]
  },
  {
   "cell_type": "code",
   "execution_count": null,
   "metadata": {},
   "outputs": [],
   "source": [
    "x_train, y_train = load_dataset()"
   ]
  },
  {
   "cell_type": "code",
   "execution_count": null,
   "metadata": {
    "scrolled": false
   },
   "outputs": [],
   "source": [
    "x_test = extract_x_test_features(x_train, y_train, new_players_df_stats, pipeline)"
   ]
  },
  {
   "cell_type": "code",
   "execution_count": null,
   "metadata": {},
   "outputs": [],
   "source": [
    "rf_model = RandomForestClassifier(**best_model_feat_params)"
   ]
  },
  {
   "cell_type": "code",
   "execution_count": null,
   "metadata": {
    "scrolled": false
   },
   "outputs": [],
   "source": [
    "rf_model.fit(x_train, y_train)"
   ]
  },
  {
   "cell_type": "code",
   "execution_count": null,
   "metadata": {},
   "outputs": [],
   "source": [
    "matches_probabilities = get_probabilities(rf_model, x_test, team_ids)"
   ]
  },
  {
   "cell_type": "code",
   "execution_count": null,
   "metadata": {
    "scrolled": true
   },
   "outputs": [],
   "source": [
    "matches_probabilities.head()"
   ]
  },
  {
   "cell_type": "code",
   "execution_count": null,
   "metadata": {},
   "outputs": [],
   "source": [
    "compute_final_standings(matches_probabilities, 'premier league')"
   ]
  },
  {
   "cell_type": "markdown",
   "metadata": {},
   "source": [
    "## Messi in each team\n",
    "Below, is possible to see the effect that Messi would have had on the final standings of the Premier League 2014/2015. The results are obtained by running 20 different simulations, eahc one with the player with the most number of appereances replaced by Messi."
   ]
  },
  {
   "cell_type": "code",
   "execution_count": null,
   "metadata": {},
   "outputs": [],
   "source": [
    "teams_with_messi.set_index(np.arange(1, 21), drop=True)"
   ]
  },
  {
   "cell_type": "markdown",
   "metadata": {},
   "source": [
    "# Benchmarks: Market's odds and Elo ratings"
   ]
  },
  {
   "cell_type": "markdown",
   "metadata": {},
   "source": [
    "While the performance is not our main goal, we nevertheless set up two simple benchmarks to make sure our (topological) model is a reasonable approximation of the reality.\n",
    "\n",
    "The task we choose is simply the ternary match outcome prediction: will the home team win, the away team or will there be a draw?\n",
    "\n",
    "The first benchmark is obtained from Market's probabilities for the three outcomes -- they are obtained by simply inverting the odds (see soccer_basics.py for details).\n",
    "\n",
    "The second benchmark is by using instead Elo ratings, a standard tool for assessing teams' or players' strenghts: <a href=\"https://en.wikipedia.org/wiki/Elo_rating_system\">Elo rating system</a>. For the related World Football Elo Ratings see:     . For a deeper mathematical discussion around this concept, see <a href=\"https://www.eloratings.net/about\"> National teams Elo rating</a>, <a href=\"https://www.stat.berkeley.edu/~aldous/Papers/me-Elo-SS.pdf\">Elo's rating mathematics</a>\n",
    "\n",
    "We calculate the benchmarks on the Premier League dataset.\n",
    "\n",
    "Our model is capable an accuracy of 0.531, which is comparable with market's performace. "
   ]
  },
  {
   "cell_type": "code",
   "execution_count": null,
   "metadata": {},
   "outputs": [],
   "source": [
    "probabilities_with_odds = get_dataset(42198).get_data(dataset_format='dataframe')[0]"
   ]
  },
  {
   "cell_type": "code",
   "execution_count": null,
   "metadata": {
    "scrolled": true
   },
   "outputs": [],
   "source": [
    "probabilities_with_odds.head()"
   ]
  },
  {
   "cell_type": "code",
   "execution_count": null,
   "metadata": {},
   "outputs": [],
   "source": [
    "soccer_basics.useful_updates1(probabilities_with_odds)\n",
    "soccer_basics.get_elo(probabilities_with_odds, 20, 100)\n",
    "soccer_basics.useful_updates2(probabilities_with_odds, 100)"
   ]
  },
  {
   "cell_type": "markdown",
   "metadata": {},
   "source": [
    "market's ternary prediction: 1, X or 2\n",
    "\n"
   ]
  },
  {
   "cell_type": "code",
   "execution_count": null,
   "metadata": {},
   "outputs": [],
   "source": [
    "print('market prediction, all data and 2014-2015 season')\n",
    "acc1 = len(probabilities_with_odds[probabilities_with_odds['result'] == \n",
    "                                   probabilities_with_odds['market_prediction']]) / float(len(probabilities_with_odds))\n",
    "df = probabilities_with_odds.reset_index()\n",
    "\n",
    "print(np.round(acc1, 3))"
   ]
  },
  {
   "cell_type": "markdown",
   "metadata": {},
   "source": [
    "Elo based ternary prediction:\n",
    "\n"
   ]
  },
  {
   "cell_type": "code",
   "execution_count": null,
   "metadata": {},
   "outputs": [],
   "source": [
    "print('Elo based prediction, all data and 2015, with 30 matches quarantine')\n",
    "soccer_basics.ternary_prediction(probabilities_with_odds, 30)"
   ]
  },
  {
   "cell_type": "code",
   "execution_count": null,
   "metadata": {},
   "outputs": [],
   "source": []
  }
 ],
 "metadata": {
  "kernelspec": {
   "display_name": "Python 3",
   "language": "python",
   "name": "python3"
  },
  "language_info": {
   "codemirror_mode": {
    "name": "ipython",
    "version": 3
   },
   "file_extension": ".py",
   "mimetype": "text/x-python",
   "name": "python",
   "nbconvert_exporter": "python",
   "pygments_lexer": "ipython3",
   "version": "3.7.6"
  }
 },
 "nbformat": 4,
 "nbformat_minor": 1
}
